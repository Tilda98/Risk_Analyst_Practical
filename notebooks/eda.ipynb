{
 "cells": [
  {
   "cell_type": "code",
   "execution_count": 3,
   "metadata": {},
   "outputs": [],
   "source": [
    "# Importing useful libraries and supressing the warning messages\n",
    "\n",
    "import pandas as pd\n",
    "import matplotlib.pyplot as plt\n",
    "import seaborn as sns\n",
    "import numpy as np\n",
    "from sklearn.preprocessing import LabelEncoder\n",
    "import warnings\n",
    "warnings.filterwarnings('ignore')\n",
    "import sys\n",
    "sys.path.append(\"..\")\n",
    "warnings.filterwarnings('ignore')"
   ]
  },
  {
   "cell_type": "code",
   "execution_count": 4,
   "metadata": {},
   "outputs": [],
   "source": [
    "# Importing some scripts\n",
    "\n",
    "from scripts.data_visualization import Data_Viz \n",
    "from scripts.data_cleaning import DataCleaner\n",
    "#from scripts.visualization_logger import logger\n",
    "\n",
    "DC = DataCleaner()\n",
    "DV = Data_Viz()"
   ]
  },
  {
   "cell_type": "code",
   "execution_count": 5,
   "metadata": {},
   "outputs": [
    {
     "data": {
      "text/html": [
       "<div>\n",
       "<style scoped>\n",
       "    .dataframe tbody tr th:only-of-type {\n",
       "        vertical-align: middle;\n",
       "    }\n",
       "\n",
       "    .dataframe tbody tr th {\n",
       "        vertical-align: top;\n",
       "    }\n",
       "\n",
       "    .dataframe thead th {\n",
       "        text-align: right;\n",
       "    }\n",
       "</style>\n",
       "<table border=\"1\" class=\"dataframe\">\n",
       "  <thead>\n",
       "    <tr style=\"text-align: right;\">\n",
       "      <th></th>\n",
       "      <th>Rafiki Id</th>\n",
       "      <th>Call status</th>\n",
       "      <th>Gender</th>\n",
       "      <th>Year of birth</th>\n",
       "      <th>Visited facility</th>\n",
       "      <th>Were you given a tiko card?</th>\n",
       "      <th>Satisfaction</th>\n",
       "      <th>Feedback</th>\n",
       "      <th>Concerns</th>\n",
       "      <th>Notes</th>\n",
       "      <th>Month</th>\n",
       "    </tr>\n",
       "  </thead>\n",
       "  <tbody>\n",
       "    <tr>\n",
       "      <th>0</th>\n",
       "      <td>1920703</td>\n",
       "      <td>Not reachable</td>\n",
       "      <td>NaN</td>\n",
       "      <td>NaN</td>\n",
       "      <td>NaN</td>\n",
       "      <td>NaN</td>\n",
       "      <td>NaN</td>\n",
       "      <td>NaN</td>\n",
       "      <td>NaN</td>\n",
       "      <td>NaN</td>\n",
       "      <td>June</td>\n",
       "    </tr>\n",
       "    <tr>\n",
       "      <th>1</th>\n",
       "      <td>2016625</td>\n",
       "      <td>Not reachable</td>\n",
       "      <td>NaN</td>\n",
       "      <td>NaN</td>\n",
       "      <td>NaN</td>\n",
       "      <td>NaN</td>\n",
       "      <td>NaN</td>\n",
       "      <td>NaN</td>\n",
       "      <td>NaN</td>\n",
       "      <td>NaN</td>\n",
       "      <td>June</td>\n",
       "    </tr>\n",
       "    <tr>\n",
       "      <th>2</th>\n",
       "      <td>2013477</td>\n",
       "      <td>Not reachable</td>\n",
       "      <td>NaN</td>\n",
       "      <td>NaN</td>\n",
       "      <td>NaN</td>\n",
       "      <td>NaN</td>\n",
       "      <td>NaN</td>\n",
       "      <td>NaN</td>\n",
       "      <td>NaN</td>\n",
       "      <td>NaN</td>\n",
       "      <td>June</td>\n",
       "    </tr>\n",
       "    <tr>\n",
       "      <th>3</th>\n",
       "      <td>2016141</td>\n",
       "      <td>Not reachable</td>\n",
       "      <td>NaN</td>\n",
       "      <td>NaN</td>\n",
       "      <td>NaN</td>\n",
       "      <td>NaN</td>\n",
       "      <td>NaN</td>\n",
       "      <td>NaN</td>\n",
       "      <td>NaN</td>\n",
       "      <td>NaN</td>\n",
       "      <td>June</td>\n",
       "    </tr>\n",
       "    <tr>\n",
       "      <th>4</th>\n",
       "      <td>1970498</td>\n",
       "      <td>Not reachable</td>\n",
       "      <td>NaN</td>\n",
       "      <td>NaN</td>\n",
       "      <td>NaN</td>\n",
       "      <td>NaN</td>\n",
       "      <td>NaN</td>\n",
       "      <td>NaN</td>\n",
       "      <td>NaN</td>\n",
       "      <td>NaN</td>\n",
       "      <td>June</td>\n",
       "    </tr>\n",
       "  </tbody>\n",
       "</table>\n",
       "</div>"
      ],
      "text/plain": [
       "   Rafiki Id    Call status Gender Year of birth Visited facility  \\\n",
       "0    1920703  Not reachable    NaN           NaN              NaN   \n",
       "1    2016625  Not reachable    NaN           NaN              NaN   \n",
       "2    2013477  Not reachable    NaN           NaN              NaN   \n",
       "3    2016141  Not reachable    NaN           NaN              NaN   \n",
       "4    1970498  Not reachable    NaN           NaN              NaN   \n",
       "\n",
       "  Were you given a tiko card? Satisfaction Feedback Concerns Notes Month  \n",
       "0                         NaN          NaN      NaN      NaN   NaN  June  \n",
       "1                         NaN          NaN      NaN      NaN   NaN  June  \n",
       "2                         NaN          NaN      NaN      NaN   NaN  June  \n",
       "3                         NaN          NaN      NaN      NaN   NaN  June  \n",
       "4                         NaN          NaN      NaN      NaN   NaN  June  "
      ]
     },
     "execution_count": 5,
     "metadata": {},
     "output_type": "execute_result"
    }
   ],
   "source": [
    "# Importing clean call center data\n",
    "\n",
    "call_center_clean = pd.read_excel(r'C:\\Users\\hp\\OneDrive - students.jkuat.ac.ke\\Desktop\\Tiko\\call_center_clean.xlsx')\n",
    "call_center_clean.head()"
   ]
  },
  {
   "cell_type": "code",
   "execution_count": 6,
   "metadata": {},
   "outputs": [
    {
     "data": {
      "text/plain": [
       "array(['Not reachable', 'No answer', 'Call later', 'Call successful',\n",
       "       'Wrong recipient', 'Call rejected'], dtype=object)"
      ]
     },
     "execution_count": 6,
     "metadata": {},
     "output_type": "execute_result"
    }
   ],
   "source": [
    "# Checking unique encounters on call status\n",
    "\n",
    "call_center_clean['Call status'].unique()"
   ]
  },
  {
   "cell_type": "code",
   "execution_count": 7,
   "metadata": {},
   "outputs": [
    {
     "data": {
      "text/plain": [
       "array(['June', 'February', 'July', 'May'], dtype=object)"
      ]
     },
     "execution_count": 7,
     "metadata": {},
     "output_type": "execute_result"
    }
   ],
   "source": [
    "call_center_clean['Month'].unique()"
   ]
  },
  {
   "cell_type": "code",
   "execution_count": 8,
   "metadata": {},
   "outputs": [
    {
     "data": {
      "text/plain": [
       "array([nan,\n",
       "       \"The sister uses his number to get tiko services but right now he's away from her for some time\"],\n",
       "      dtype=object)"
      ]
     },
     "execution_count": 8,
     "metadata": {},
     "output_type": "execute_result"
    }
   ],
   "source": [
    "call_center_clean['Notes'].unique()"
   ]
  },
  {
   "cell_type": "code",
   "execution_count": 9,
   "metadata": {},
   "outputs": [
    {
     "data": {
      "text/html": [
       "<div>\n",
       "<style scoped>\n",
       "    .dataframe tbody tr th:only-of-type {\n",
       "        vertical-align: middle;\n",
       "    }\n",
       "\n",
       "    .dataframe tbody tr th {\n",
       "        vertical-align: top;\n",
       "    }\n",
       "\n",
       "    .dataframe thead th {\n",
       "        text-align: right;\n",
       "    }\n",
       "</style>\n",
       "<table border=\"1\" class=\"dataframe\">\n",
       "  <thead>\n",
       "    <tr style=\"text-align: right;\">\n",
       "      <th></th>\n",
       "      <th>Call status</th>\n",
       "      <th>Gender</th>\n",
       "      <th>Year of birth</th>\n",
       "      <th>Visited facility</th>\n",
       "      <th>Were you given a tiko card?</th>\n",
       "      <th>Satisfaction</th>\n",
       "      <th>Feedback</th>\n",
       "      <th>Concerns</th>\n",
       "      <th>Notes</th>\n",
       "      <th>Month</th>\n",
       "    </tr>\n",
       "  </thead>\n",
       "  <tbody>\n",
       "    <tr>\n",
       "      <th>0</th>\n",
       "      <td>Not reachable</td>\n",
       "      <td>NaN</td>\n",
       "      <td>NaN</td>\n",
       "      <td>NaN</td>\n",
       "      <td>NaN</td>\n",
       "      <td>NaN</td>\n",
       "      <td>NaN</td>\n",
       "      <td>NaN</td>\n",
       "      <td>NaN</td>\n",
       "      <td>June</td>\n",
       "    </tr>\n",
       "    <tr>\n",
       "      <th>1</th>\n",
       "      <td>Not reachable</td>\n",
       "      <td>NaN</td>\n",
       "      <td>NaN</td>\n",
       "      <td>NaN</td>\n",
       "      <td>NaN</td>\n",
       "      <td>NaN</td>\n",
       "      <td>NaN</td>\n",
       "      <td>NaN</td>\n",
       "      <td>NaN</td>\n",
       "      <td>June</td>\n",
       "    </tr>\n",
       "    <tr>\n",
       "      <th>2</th>\n",
       "      <td>Not reachable</td>\n",
       "      <td>NaN</td>\n",
       "      <td>NaN</td>\n",
       "      <td>NaN</td>\n",
       "      <td>NaN</td>\n",
       "      <td>NaN</td>\n",
       "      <td>NaN</td>\n",
       "      <td>NaN</td>\n",
       "      <td>NaN</td>\n",
       "      <td>June</td>\n",
       "    </tr>\n",
       "    <tr>\n",
       "      <th>3</th>\n",
       "      <td>Not reachable</td>\n",
       "      <td>NaN</td>\n",
       "      <td>NaN</td>\n",
       "      <td>NaN</td>\n",
       "      <td>NaN</td>\n",
       "      <td>NaN</td>\n",
       "      <td>NaN</td>\n",
       "      <td>NaN</td>\n",
       "      <td>NaN</td>\n",
       "      <td>June</td>\n",
       "    </tr>\n",
       "    <tr>\n",
       "      <th>4</th>\n",
       "      <td>Not reachable</td>\n",
       "      <td>NaN</td>\n",
       "      <td>NaN</td>\n",
       "      <td>NaN</td>\n",
       "      <td>NaN</td>\n",
       "      <td>NaN</td>\n",
       "      <td>NaN</td>\n",
       "      <td>NaN</td>\n",
       "      <td>NaN</td>\n",
       "      <td>June</td>\n",
       "    </tr>\n",
       "  </tbody>\n",
       "</table>\n",
       "</div>"
      ],
      "text/plain": [
       "     Call status Gender Year of birth Visited facility  \\\n",
       "0  Not reachable    NaN           NaN              NaN   \n",
       "1  Not reachable    NaN           NaN              NaN   \n",
       "2  Not reachable    NaN           NaN              NaN   \n",
       "3  Not reachable    NaN           NaN              NaN   \n",
       "4  Not reachable    NaN           NaN              NaN   \n",
       "\n",
       "  Were you given a tiko card? Satisfaction Feedback Concerns Notes Month  \n",
       "0                         NaN          NaN      NaN      NaN   NaN  June  \n",
       "1                         NaN          NaN      NaN      NaN   NaN  June  \n",
       "2                         NaN          NaN      NaN      NaN   NaN  June  \n",
       "3                         NaN          NaN      NaN      NaN   NaN  June  \n",
       "4                         NaN          NaN      NaN      NaN   NaN  June  "
      ]
     },
     "execution_count": 9,
     "metadata": {},
     "output_type": "execute_result"
    }
   ],
   "source": [
    "del call_center_clean['Rafiki Id']\n",
    "call_center_clean.head()"
   ]
  },
  {
   "cell_type": "code",
   "execution_count": 10,
   "metadata": {},
   "outputs": [
    {
     "data": {
      "text/html": [
       "<div>\n",
       "<style scoped>\n",
       "    .dataframe tbody tr th:only-of-type {\n",
       "        vertical-align: middle;\n",
       "    }\n",
       "\n",
       "    .dataframe tbody tr th {\n",
       "        vertical-align: top;\n",
       "    }\n",
       "\n",
       "    .dataframe thead th {\n",
       "        text-align: right;\n",
       "    }\n",
       "</style>\n",
       "<table border=\"1\" class=\"dataframe\">\n",
       "  <thead>\n",
       "    <tr style=\"text-align: right;\">\n",
       "      <th></th>\n",
       "      <th>count</th>\n",
       "      <th>unique</th>\n",
       "      <th>top</th>\n",
       "      <th>freq</th>\n",
       "    </tr>\n",
       "  </thead>\n",
       "  <tbody>\n",
       "    <tr>\n",
       "      <th>Call status</th>\n",
       "      <td>1389</td>\n",
       "      <td>6</td>\n",
       "      <td>Not reachable</td>\n",
       "      <td>1123</td>\n",
       "    </tr>\n",
       "    <tr>\n",
       "      <th>Gender</th>\n",
       "      <td>141</td>\n",
       "      <td>2</td>\n",
       "      <td>Female</td>\n",
       "      <td>130</td>\n",
       "    </tr>\n",
       "    <tr>\n",
       "      <th>Year of birth</th>\n",
       "      <td>140</td>\n",
       "      <td>3</td>\n",
       "      <td>2004-2009</td>\n",
       "      <td>77</td>\n",
       "    </tr>\n",
       "    <tr>\n",
       "      <th>Visited facility</th>\n",
       "      <td>140</td>\n",
       "      <td>2</td>\n",
       "      <td>Yes</td>\n",
       "      <td>124</td>\n",
       "    </tr>\n",
       "    <tr>\n",
       "      <th>Were you given a tiko card?</th>\n",
       "      <td>124</td>\n",
       "      <td>2</td>\n",
       "      <td>No</td>\n",
       "      <td>101</td>\n",
       "    </tr>\n",
       "    <tr>\n",
       "      <th>Satisfaction</th>\n",
       "      <td>124</td>\n",
       "      <td>2</td>\n",
       "      <td>Yes</td>\n",
       "      <td>123</td>\n",
       "    </tr>\n",
       "    <tr>\n",
       "      <th>Feedback</th>\n",
       "      <td>124</td>\n",
       "      <td>5</td>\n",
       "      <td>the services were good</td>\n",
       "      <td>57</td>\n",
       "    </tr>\n",
       "    <tr>\n",
       "      <th>Concerns</th>\n",
       "      <td>98</td>\n",
       "      <td>6</td>\n",
       "      <td>no</td>\n",
       "      <td>93</td>\n",
       "    </tr>\n",
       "    <tr>\n",
       "      <th>Notes</th>\n",
       "      <td>1</td>\n",
       "      <td>1</td>\n",
       "      <td>The sister uses his number to get tiko service...</td>\n",
       "      <td>1</td>\n",
       "    </tr>\n",
       "    <tr>\n",
       "      <th>Month</th>\n",
       "      <td>1389</td>\n",
       "      <td>4</td>\n",
       "      <td>June</td>\n",
       "      <td>1385</td>\n",
       "    </tr>\n",
       "  </tbody>\n",
       "</table>\n",
       "</div>"
      ],
      "text/plain": [
       "                            count unique  \\\n",
       "Call status                  1389      6   \n",
       "Gender                        141      2   \n",
       "Year of birth                 140      3   \n",
       "Visited facility              140      2   \n",
       "Were you given a tiko card?   124      2   \n",
       "Satisfaction                  124      2   \n",
       "Feedback                      124      5   \n",
       "Concerns                       98      6   \n",
       "Notes                           1      1   \n",
       "Month                        1389      4   \n",
       "\n",
       "                                                                           top  \\\n",
       "Call status                                                      Not reachable   \n",
       "Gender                                                                  Female   \n",
       "Year of birth                                                        2004-2009   \n",
       "Visited facility                                                           Yes   \n",
       "Were you given a tiko card?                                                 No   \n",
       "Satisfaction                                                               Yes   \n",
       "Feedback                                                the services were good   \n",
       "Concerns                                                                    no   \n",
       "Notes                        The sister uses his number to get tiko service...   \n",
       "Month                                                                     June   \n",
       "\n",
       "                             freq  \n",
       "Call status                  1123  \n",
       "Gender                        130  \n",
       "Year of birth                  77  \n",
       "Visited facility              124  \n",
       "Were you given a tiko card?   101  \n",
       "Satisfaction                  123  \n",
       "Feedback                       57  \n",
       "Concerns                       93  \n",
       "Notes                           1  \n",
       "Month                        1385  "
      ]
     },
     "execution_count": 10,
     "metadata": {},
     "output_type": "execute_result"
    }
   ],
   "source": [
    "# Statistics summary\n",
    "\n",
    "call_center_clean.describe(include='all').T"
   ]
  },
  {
   "cell_type": "markdown",
   "metadata": {},
   "source": [
    "Inferences from the above statistics\n",
    "1. Most calls (1123) were \"Not reachable\"\n",
    "2. The female gender topped in seeking the services ie. 130 are Female and 11 are Male\n",
    "3. The age that recorded the highest number(77, born between 2004-2009) are 15-20 year olds\n",
    "4. 101 rafikis responded \"No\" to receiving a tiko card while 23 responded \"Yes\" to receiving a tiko card\n",
    "5. About the rafikis who visited the facility, 124 responded \"Yes\" to visiting a facility and 16 responded \"No\" to visiting a facility\n",
    "6. 123 responded \"Yes\" to being satisfied with the services while only 1 responded \"No\" to being satisfied\n",
    "6. Most common feedback was \"the services were good\" (57 entries)\n",
    "7. There were minimal concerns about the services offered and Tiko\n",
    "8. The vast majority of entries (1385) are from June\n"
   ]
  },
  {
   "cell_type": "markdown",
   "metadata": {},
   "source": [
    "Exploratory Data Analysis"
   ]
  },
  {
   "cell_type": "code",
   "execution_count": 16,
   "metadata": {},
   "outputs": [
    {
     "data": {
      "text/plain": [
       "array(['Not reachable', 'No answer', 'Call later', 'Call successful',\n",
       "       'Wrong recipient', 'Call rejected'], dtype=object)"
      ]
     },
     "execution_count": 16,
     "metadata": {},
     "output_type": "execute_result"
    }
   ],
   "source": [
    "# Checking the unique values in the Call status field\n",
    "\n",
    "call_center_clean['Call status'].unique()"
   ]
  },
  {
   "cell_type": "code",
   "execution_count": 30,
   "metadata": {},
   "outputs": [
    {
     "name": "stdout",
     "output_type": "stream",
     "text": [
      "Percentage of successful calls: 10.15%\n"
     ]
    }
   ],
   "source": [
    "# Filter for successful calls (assuming other entries mean unsuccessful)\n",
    "\n",
    "successful_calls = call_center_clean[call_center_clean['Call status'] == 'Call successful']\n",
    "\n",
    "# Calculating the percentage of successful calls\n",
    "\n",
    "success_rate = (len(successful_calls) / len(call_center_clean)) * 100\n",
    "print(f\"\\\n",
    "Percentage of successful calls: {success_rate:.2f}%\")\n"
   ]
  },
  {
   "cell_type": "code",
   "execution_count": 28,
   "metadata": {},
   "outputs": [
    {
     "name": "stdout",
     "output_type": "stream",
     "text": [
      "     Year of birth  Estimated Year of Birth\n",
      "1384     2004-2009                   2006.0\n",
      "1385     2004-2009                   2006.0\n",
      "1386     1998-2003                   2000.0\n",
      "1387     2004-2009                   2006.0\n",
      "1388     2004-2009                   2006.0\n"
     ]
    }
   ],
   "source": [
    "# Defining a function to map the year ranges to estimated years\n",
    "def estimate_year_of_birth(year_range):\n",
    "    if year_range == '2004-2009':\n",
    "        return 2006\n",
    "    elif year_range == '1998-2003':\n",
    "        return 2000\n",
    "    elif year_range == 'Before 1998':\n",
    "        return 1990\n",
    "    else:\n",
    "        return None\n",
    "\n",
    "# Applying the function to create a new column\n",
    "\n",
    "call_center_clean['Estimated Year of Birth'] = call_center_clean['Year of birth'].apply(estimate_year_of_birth)\n",
    "\n",
    "# Display the head of the updated dataframe to confirm changes\n",
    "print(call_center_clean[['Year of birth', 'Estimated Year of Birth']].tail())"
   ]
  },
  {
   "cell_type": "code",
   "execution_count": 32,
   "metadata": {},
   "outputs": [
    {
     "name": "stdout",
     "output_type": "stream",
     "text": [
      "Number of overage Rafikis (age > 19): 63\n",
      "Facility Visits:\n",
      "Visited facility\n",
      "Yes    124\n",
      "No      16\n",
      "Name: count, dtype: int64\n",
      "Top Concerns:\n",
      "Concerns\n",
      "no                                       93\n",
      "how to redeem tiko miles                  1\n",
      "where to locate the nearest tiko shop     1\n",
      "How to redeem tiko miles                  1\n",
      "0                                         1\n",
      "NO                                        1\n",
      "Name: count, dtype: int64\n",
      "Top Feedback:\n",
      "Feedback\n",
      "the services were good              57\n",
      "the service was good                36\n",
      "rafiki says the service was good    28\n",
      "The services were good               2\n",
      "she was not attended to              1\n",
      "Name: count, dtype: int64\n"
     ]
    }
   ],
   "source": [
    "# Calculating the age of each Rafiki based on the current year (2024) and the 'Estimated Year of Birth'\n",
    "current_year = 2024\n",
    "\n",
    "call_center_clean['Age'] = current_year - call_center_clean['Estimated Year of Birth']\n",
    "\n",
    "# Filter the dataframe for successful calls\n",
    "successful_calls = call_center_clean[call_center_clean['Call status'] == 'Call successful']\n",
    "\n",
    "# Analyze overage Rafikis (age > 19)\n",
    "overage_rafikis = successful_calls[successful_calls['Age'] > 19]\n",
    "\n",
    "# Count the number of overage Rafikis\n",
    "overage_count = overage_rafikis.shape[0]\n",
    "\n",
    "# Analyze facility visits\n",
    "facility_visits = successful_calls['Visited facility'].value_counts()\n",
    "\n",
    "# Analyze notable concerns and feedback\n",
    "concerns_summary = successful_calls['Concerns'].value_counts().head(10)\n",
    "feedback_summary = successful_calls['Feedback'].value_counts().head(10)\n",
    "\n",
    "# Display the results\n",
    "print(\"Number of overage Rafikis (age > 19):\", overage_count)\n",
    "print(\"\\\n",
    "Facility Visits:\")\n",
    "print(facility_visits)\n",
    "print(\"\\\n",
    "Top Concerns:\")\n",
    "print(concerns_summary)\n",
    "print(\"\\\n",
    "Top Feedback:\")\n",
    "print(feedback_summary)"
   ]
  },
  {
   "cell_type": "markdown",
   "metadata": {},
   "source": [
    "This indicates that there are 63 Rafikis who are over 18 years old among the successful calls."
   ]
  },
  {
   "cell_type": "markdown",
   "metadata": {},
   "source": [
    "The majority of Rafikis who were successfully contacted had visited a facility (124), while only 16 had not."
   ]
  },
  {
   "cell_type": "markdown",
   "metadata": {},
   "source": [
    "The most common response for concerns is \"no\", suggesting that many Rafikis don't have specific concerns. However, some notable concerns include:\n",
    "\n",
    "How to redeem tiko miles\n",
    "Where to locate the nearest tiko shop"
   ]
  },
  {
   "cell_type": "markdown",
   "metadata": {},
   "source": [
    "The feedback is overwhelmingly positive, with most Rafikis reporting that the services were good. However, there is one instance of negative feedback where a Rafiki reported not being attended to."
   ]
  },
  {
   "cell_type": "markdown",
   "metadata": {},
   "source": [
    "Key observations:\n",
    "\n",
    "1. Overage Rafikis: The presence of 63 Rafikis over 19 years old might be a concern, depending on the target demographic of the program. This could indicate a need for age verification or adjustment of the program's focus.\n",
    "\n",
    "2. Facility Visits: The high number of facility visits (124 out of 140 successful calls) suggests that most Rafikis are actively engaging with the services provided.\n",
    "\n",
    "3. Concerns: While most Rafikis reported no concerns, the few specific concerns mentioned (redeeming tiko miles, locating tiko shops) could be areas for improvement in communication or service delivery.\n",
    "\n",
    "4. Feedback: The feedback is predominantly positive, which is encouraging. However, the one instance of a Rafiki not being attended to should be investigated to ensure it's not indicative of a larger issue."
   ]
  },
  {
   "cell_type": "code",
   "execution_count": 42,
   "metadata": {},
   "outputs": [
    {
     "name": "stdout",
     "output_type": "stream",
     "text": [
      "1. Number of Rafikis who haven't visited a facility: 16\n"
     ]
    },
    {
     "data": {
      "image/png": "[encoded data removed]",
      "text/plain": [
       "<Figure size 1000x600 with 1 Axes>"
      ]
     },
     "metadata": {},
     "output_type": "display_data"
    },
    {
     "data": {
      "image/png": "[encoded data removed]",
      "text/plain": [
       "<Figure size 1200x600 with 1 Axes>"
      ]
     },
     "metadata": {},
     "output_type": "display_data"
    },
    {
     "data": {
      "image/png": "[encoded data removed]",
      "text/plain": [
       "<Figure size 1200x600 with 1 Axes>"
      ]
     },
     "metadata": {},
     "output_type": "display_data"
    },
    {
     "name": "stdout",
     "output_type": "stream",
     "text": [
      "Summary Statistics:\n",
      "count    140.000000\n",
      "mean      21.057143\n",
      "std        3.849267\n",
      "min       18.000000\n",
      "25%       18.000000\n",
      "50%       18.000000\n",
      "75%       24.000000\n",
      "max       34.000000\n",
      "Name: Age, dtype: float64\n",
      "Correlation between Age and Satisfaction: -0.09\n"
     ]
    }
   ],
   "source": [
    "# 1. Counting the number of occurrences of rafikis who did not visit a facility based on available data\n",
    "no_visit = successful_calls[successful_calls['Visited facility'] == 'No']\n",
    "no_visit_count = no_visit['Visited facility'].count()\n",
    "\n",
    "print(f\"1. Number of Rafikis who haven't visited a facility: {no_visit_count}\")\n",
    "\n",
    "# 2. Age distribution of Rafikis\n",
    "plt.figure(figsize=(10, 6))\n",
    "sns.histplot(data=successful_calls, x='Age', bins=20, kde=True)\n",
    "plt.title('Age Distribution of Rafikis')\n",
    "plt.xlabel('Age')\n",
    "plt.ylabel('Count')\n",
    "plt.savefig(r\"..\\charts\\age_distribution.jpg\")\n",
    "plt.show()\n",
    "\n",
    "# 3. Relationship between age and service satisfaction\n",
    "successful_calls['Satisfaction'] = successful_calls['Feedback'].apply(lambda x: 'Satisfied' if 'good' in str(x).lower() else 'Unsatisfied')\n",
    "age_satisfaction = successful_calls.groupby('Age')['Satisfaction'].value_counts(normalize=True).unstack()\n",
    "age_satisfaction.plot(kind='bar', stacked=True, figsize=(12, 6))\n",
    "plt.title('Satisfaction by Age')\n",
    "plt.xlabel('Age')\n",
    "plt.ylabel('Proportion')\n",
    "plt.legend(title='Satisfaction')\n",
    "plt.savefig('../charts/satisfaction_by_age.jpg')\n",
    "plt.show()\n",
    "\n",
    "# 4. Patterns in concerns or feedback based on age or facility visits\n",
    "concerns_by_visit = successful_calls.groupby('Visited facility')['Concerns'].value_counts(normalize=True).unstack()\n",
    "concerns_by_visit.plot(kind='bar', stacked=True, figsize=(12, 6))\n",
    "plt.title('Concerns by Facility Visit')\n",
    "plt.xlabel('Visited Facility')\n",
    "plt.ylabel('Proportion')\n",
    "plt.legend(title='Concerns', bbox_to_anchor=(1.05, 1), loc='upper left')\n",
    "plt.tight_layout()\n",
    "plt.savefig('../charts/concerns_by_visit.jpg')\n",
    "plt.show()\n",
    "\n",
    "# Display summary statistics\n",
    "print(\"\\\n",
    "Summary Statistics:\")\n",
    "print(successful_calls['Age'].describe())\n",
    "\n",
    "# Calculate correlation between age and satisfaction\n",
    "successful_calls['Satisfaction_Numeric'] = successful_calls['Satisfaction'].map({'Satisfied': 1, 'Unsatisfied': 0})\n",
    "correlation = successful_calls['Age'].corr(successful_calls['Satisfaction_Numeric'])\n",
    "print(f\"\\\n",
    "Correlation between Age and Satisfaction: {correlation:.2f}\")\n",
    "\n",
    "# Most common concerns and feedback for different age groups\n",
    "age_groups = pd.cut(successful_calls['Age'], bins=[0, 18, 25, 35, 100], labels=['Under 18', '18-25', '26-35', 'Over 35'])\n",
    "successful_calls['Age_Group'] = age_groups\n"
   ]
  },
  {
   "cell_type": "markdown",
   "metadata": {},
   "source": [
    "The correlation between Age and Satisfaction is -0.09, indicating a very weak negative relationship. This means that as age increases, satisfaction tends to decrease slightly."
   ]
  }
 ],
 "metadata": {
  "kernelspec": {
   "display_name": "venv",
   "language": "python",
   "name": "python3"
  },
  "language_info": {
   "codemirror_mode": {
    "name": "ipython",
    "version": 3
   },
   "file_extension": ".py",
   "mimetype": "text/x-python",
   "name": "python",
   "nbconvert_exporter": "python",
   "pygments_lexer": "ipython3",
   "version": "3.10.5"
  }
 },
 "nbformat": 4,
 "nbformat_minor": 2
}
